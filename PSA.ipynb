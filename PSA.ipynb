{
 "cells": [
  {
   "cell_type": "code",
   "execution_count": 47,
   "metadata": {},
   "outputs": [],
   "source": [
    "from math import sqrt\n",
    "from numpy import concatenate\n",
    "from matplotlib import pyplot as plt\n",
    "from pandas import read_csv\n",
    "from pandas import DataFrame\n",
    "from pandas import concat\n",
    "from sklearn.preprocessing import MinMaxScaler\n",
    "from sklearn.preprocessing import LabelEncoder\n",
    "from sklearn.metrics import mean_squared_error\n",
    "from sklearn.metrics import r2_score\n",
    "from keras.models import Sequential\n",
    "from keras.layers import Dense\n",
    "from keras.layers import LSTM\n",
    "import numpy as np\n",
    "import pandas as pd\n",
    "import time\n",
    "from W_settings import *\n",
    "import datetime\n",
    "from sklearn.svm import SVR\n",
    "from sklearn.preprocessing import StandardScaler\n",
    "from sklearn.decomposition import PCA\n",
    "\n",
    "import os\n"
   ]
  },
  {
   "cell_type": "code",
   "execution_count": 38,
   "metadata": {},
   "outputs": [],
   "source": [
    "separation_date = '31/12/2010'\n",
    "begin_test = '01/01/2015'\n",
    "test_date = '29/11/2014'\n",
    "begin_date = '01/01/2005'\n",
    "final_date = '31/12/2015'"
   ]
  },
  {
   "cell_type": "code",
   "execution_count": 39,
   "metadata": {},
   "outputs": [],
   "source": [
    "def get_season(dt):\n",
    "    # it returnts string\n",
    "    #print('type of dt:' + str(type(dt)))\n",
    "    #print(dt)\n",
    "    dt = dt.date()\n",
    "    if (dt.month < 3):\n",
    "        return 'H'\n",
    "    elif (dt.month < 6):\n",
    "        return 'P'\n",
    "    elif (dt.month < 9):\n",
    "        return \"E\"\n",
    "    elif (dt.month < 12):\n",
    "        return \"A\"\n",
    "    else:\n",
    "        return \"H\"\n"
   ]
  },
  {
   "cell_type": "code",
   "execution_count": 40,
   "metadata": {},
   "outputs": [],
   "source": [
    "def prepare_data(df_temp, keep_season=False, keep_wind=False):\n",
    "\n",
    "    train_data = df_temp[df_temp['Date'] < test_date].drop([\"Date\"], axis=1).dropna(axis=0, how=\"any\")\n",
    "    test_data = df_temp[df_temp['Date'] > test_date].drop([\"Date\"], axis=1).dropna(axis=0, how=\"any\")\n",
    "\n",
    "    season_train = train_data['Season']\n",
    "    season_test = test_data['Season']\n",
    "\n",
    "    train_data = train_data.drop(\"Season\", axis=1)\n",
    "    test_data = test_data.drop(\"Season\", axis=1)\n",
    "\n",
    "    vent_train = train_data[\"vent\"]\n",
    "    vent_test = test_data[\"vent\"]\n",
    "\n",
    "    train_data = train_data.drop(\"vent\", axis=1)\n",
    "    test_data = test_data.drop(\"vent\", axis=1)\n",
    "\n",
    "    \"\"\"\n",
    "    for col in salouel_data.columns:\n",
    "        train_data[col] = train_data[col].apply(scale_transformer, args=(settings_array[col],))\n",
    "\n",
    "    for col in test_data.columns:\n",
    "        test_data[col] = test_data[col].apply(scale_transformer, args=(settings_array[col],))\n",
    "    \"\"\"\n",
    "    if(keep_season):\n",
    "        train_data[\"Season\"] = season_train\n",
    "        test_data[\"Season\"] = season_test\n",
    "\n",
    "    if(keep_wind):\n",
    "        train_data[\"vent\"] = vent_train\n",
    "        test_data[\"vent\"] = vent_test\n",
    "\n",
    "    train_data = pd.get_dummies(train_data)\n",
    "    test_data = pd.get_dummies(test_data)\n",
    "    #print(test_data.info())\n",
    "    train_data.to_csv('./data/train.csv')\n",
    "\n",
    "    test_data.to_csv('./data/test.csv')\n",
    "\n",
    "    print(\"Dataframes saved...\")\n",
    "    return train_data, test_data\n",
    "\n"
   ]
  },
  {
   "cell_type": "code",
   "execution_count": 41,
   "metadata": {},
   "outputs": [],
   "source": [
    "cols = ['Date', 'NO2', 'O3', 'PM10', 'RR', 'TN', 'TX', 'TM',\n",
    "                     'PMERM', 'FFM', 'DXY', 'UM', 'GLOT']\n"
   ]
  },
  {
   "cell_type": "code",
   "execution_count": 42,
   "metadata": {},
   "outputs": [],
   "source": [
    "\n",
    "def preprocessing_data(df):\n",
    "    df = df.iloc[1:]\n",
    "    df.columns = cols\n",
    "    df = df.drop([\"Date\", 'NO2', 'O3'], axis=1)\n",
    "    df = df.astype(float)\n",
    "    df['vent'] = df['DXY'].apply(get_dir)\n",
    "    df = df.drop(['DXY'], axis=1)\n",
    "    #df = df.dropna(axis=0, how=\"any\")\n",
    "    return df\n"
   ]
  },
  {
   "cell_type": "code",
   "execution_count": 43,
   "metadata": {},
   "outputs": [],
   "source": [
    "from pandas import read_csv\n",
    "creil_raw_data = pd.read_csv(\"Moyennes_J_creil_2005_2015.csv\", header=None, sep=';', decimal=',')\n",
    "roth_raw_data = pd.read_csv(\"Moyennes_J_roth_2005_2015.csv\", header=None, sep=';', decimal=',')\n",
    "salouel_raw_data = pd.read_csv(\"Moyennes_J_salouel_2005_2015.csv\", header=None, sep=';', decimal=',')\n"
   ]
  },
  {
   "cell_type": "code",
   "execution_count": 44,
   "metadata": {},
   "outputs": [],
   "source": [
    "def clean_data(array_raw_data, cut):\n",
    "    global begin_date\n",
    "    # concat is first\n",
    "    conc = True\n",
    "    df = array_raw_data.iloc[1:]\n",
    "    df.columns = cols\n",
    "    df_temp = df.drop([\"Date\", 'NO2', 'O3'], axis=1)\n",
    "    df_temp = df_temp.astype(float)\n",
    "    df_temp[\"Date\"] = pd.to_datetime(df[\"Date\"])\n",
    "    if cut == True:\n",
    "        df_temp = df_temp[df_temp['Date'] > separation_date]\n",
    "        begin_date = '01/01/2010'\n",
    "    else:\n",
    "        begin_date = '01/01/2005'\n",
    "    # df_temp[\"Date\"] = pd.to_datetime(df[\"Date\"])\n",
    "    df_temp['Season'] = df_temp[\"Date\"].apply(get_season)\n",
    "    df_temp['vent'] = df_temp['DXY'].apply(get_dir)\n",
    "\n",
    "    return df_temp"
   ]
  },
  {
   "cell_type": "code",
   "execution_count": 61,
   "metadata": {},
   "outputs": [
    {
     "name": "stdout",
     "output_type": "stream",
     "text": [
      "Dataframes saved...\n"
     ]
    }
   ],
   "source": [
    "\n",
    "df_temp = clean_data(salouel_raw_data, False)\n",
    "\n",
    "train_data, test_data = prepare_data(df_temp, True, True)\n",
    "X_train = train_data.loc[:, [ 'TN', 'RR','TX', 'TM', 'PMERM', 'FFM', 'UM', 'GLOT']].values.copy()\n",
    "X_test = test_data.loc[:, ['PM10', 'RR', 'TN', 'TX', 'TM', 'PMERM', 'FFM', 'UM', 'GLOT']].values.copy()\n",
    "\n",
    "X_std = StandardScaler().fit_transform(X_train);  # standardization of data\n",
    "\n",
    "# Fit the model with X_std and apply the dimensionality reduction on X_std.\n",
    "pca = PCA()"
   ]
  },
  {
   "cell_type": "code",
   "execution_count": 62,
   "metadata": {},
   "outputs": [],
   "source": [
    "Y_pca = pca.fit_transform(X_std)\n"
   ]
  },
  {
   "cell_type": "code",
   "execution_count": 63,
   "metadata": {},
   "outputs": [
    {
     "data": {
      "text/plain": [
       "array([0.45998931, 0.21455993, 0.13755863, 0.08423133, 0.07358076,\n",
       "       0.01992791, 0.00930092, 0.0008512 ])"
      ]
     },
     "execution_count": 63,
     "metadata": {},
     "output_type": "execute_result"
    }
   ],
   "source": [
    "\n",
    "pca.explained_variance_ratio_"
   ]
  },
  {
   "cell_type": "code",
   "execution_count": 60,
   "metadata": {},
   "outputs": [
    {
     "data": {
      "text/plain": [
       "array([0.45998931, 0.21455993, 0.13755863, 0.08423133, 0.07358076,\n",
       "       0.01992791, 0.00930092, 0.0008512 ])"
      ]
     },
     "execution_count": 60,
     "metadata": {},
     "output_type": "execute_result"
    }
   ],
   "source": []
  },
  {
   "cell_type": "code",
   "execution_count": null,
   "metadata": {},
   "outputs": [],
   "source": []
  }
 ],
 "metadata": {
  "kernelspec": {
   "display_name": "Python 3",
   "language": "python",
   "name": "python3"
  },
  "language_info": {
   "codemirror_mode": {
    "name": "ipython",
    "version": 3
   },
   "file_extension": ".py",
   "mimetype": "text/x-python",
   "name": "python",
   "nbconvert_exporter": "python",
   "pygments_lexer": "ipython3",
   "version": "3.6.4"
  }
 },
 "nbformat": 4,
 "nbformat_minor": 2
}
