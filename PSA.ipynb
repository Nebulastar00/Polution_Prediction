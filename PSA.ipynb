{
 "cells": [
  {
   "cell_type": "code",
   "execution_count": 157,
   "metadata": {},
   "outputs": [],
   "source": [
    "from math import sqrt\n",
    "from numpy import concatenate\n",
    "from matplotlib import pyplot as plt\n",
    "from pandas import read_csv\n",
    "from pandas import DataFrame\n",
    "from pandas import concat\n",
    "from sklearn.preprocessing import MinMaxScaler\n",
    "from sklearn.preprocessing import LabelEncoder\n",
    "from sklearn.metrics import mean_squared_error\n",
    "from sklearn.metrics import r2_score\n",
    "from keras.models import Sequential\n",
    "from keras.layers import Dense\n",
    "from keras.layers import LSTM\n",
    "import numpy as np\n",
    "import pandas as pd\n",
    "import time\n",
    "from W_settings import *\n",
    "import datetime\n",
    "from sklearn.svm import SVR\n",
    "from sklearn.preprocessing import StandardScaler\n",
    "from sklearn.decomposition import PCA\n",
    "\n",
    "import os\n"
   ]
  },
  {
   "cell_type": "code",
   "execution_count": 158,
   "metadata": {},
   "outputs": [],
   "source": [
    "separation_date = '31/12/2010'\n",
    "begin_test = '01/01/2015'\n",
    "test_date = '29/11/2014'\n",
    "begin_date = '01/01/2005'\n",
    "final_date = '31/12/2015'"
   ]
  },
  {
   "cell_type": "code",
   "execution_count": 159,
   "metadata": {},
   "outputs": [],
   "source": [
    "def get_season(dt):\n",
    "    # it returnts string\n",
    "    #print('type of dt:' + str(type(dt)))\n",
    "    #print(dt)\n",
    "    dt = dt.date()\n",
    "    if (dt.month < 3):\n",
    "        return 'H'\n",
    "    elif (dt.month < 6):\n",
    "        return 'P'\n",
    "    elif (dt.month < 9):\n",
    "        return \"E\"\n",
    "    elif (dt.month < 12):\n",
    "        return \"A\"\n",
    "    else:\n",
    "        return \"H\"\n"
   ]
  },
  {
   "cell_type": "code",
   "execution_count": 160,
   "metadata": {},
   "outputs": [],
   "source": [
    "def prepare_data(df_temp, keep_season=False, keep_wind=False):\n",
    "    df_temp = df_temp.drop([\"Date\"], axis=1).dropna(axis=0, how=\"any\")\n",
    "\n",
    "    \"\"\"\n",
    "    for col in salouel_data.columns:\n",
    "        train_data[col] = train_data[col].apply(scale_transformer, args=(settings_array[col],))\n",
    "\n",
    "    for col in test_data.columns:\n",
    "        test_data[col] = test_data[col].apply(scale_transformer, args=(settings_array[col],))\n",
    "    \"\"\"\n",
    "    \n",
    "    #df_temp = pd.get_dummies(train_data)\n",
    "    #print(test_data.info())\n",
    "    print(\"Dataframes saved...\")\n",
    "    return df_temp\n",
    "\n"
   ]
  },
  {
   "cell_type": "code",
   "execution_count": 161,
   "metadata": {},
   "outputs": [],
   "source": [
    "cols = ['Date', 'NO2', 'O3', 'PM10', 'RR', 'TN', 'TX', 'TM',\n",
    "                     'PMERM', 'FFM', 'DXY', 'UM', 'GLOT']\n"
   ]
  },
  {
   "cell_type": "code",
   "execution_count": 162,
   "metadata": {},
   "outputs": [],
   "source": [
    "\n",
    "def preprocessing_data(df):\n",
    "    df = df.iloc[1:]\n",
    "    df.columns = cols\n",
    "    df = df.drop([\"Date\", 'NO2', 'O3'], axis=1)\n",
    "    df = df.astype(float)\n",
    "    #df = df.dropna(axis=0, how=\"any\")\n",
    "    return df\n"
   ]
  },
  {
   "cell_type": "code",
   "execution_count": 163,
   "metadata": {},
   "outputs": [],
   "source": [
    "from pandas import read_csv\n",
    "creil_raw_data = pd.read_csv(\"Moyennes_J_creil_2005_2015.csv\", header=None, sep=';', decimal=',')\n",
    "roth_raw_data = pd.read_csv(\"Moyennes_J_roth_2005_2015.csv\", header=None, sep=';', decimal=',')\n",
    "salouel_raw_data = pd.read_csv(\"Moyennes_J_salouel_2005_2015.csv\", header=None, sep=';', decimal=',')\n"
   ]
  },
  {
   "cell_type": "code",
   "execution_count": 164,
   "metadata": {},
   "outputs": [],
   "source": [
    "def clean_data(array_raw_data, cut):\n",
    "    global begin_date\n",
    "    # concat is first\n",
    "    conc = True\n",
    "    df = array_raw_data.iloc[1:]\n",
    "    df.columns = cols\n",
    "    df_temp = df.drop([\"Date\", 'NO2', 'O3', 'PM10', 'TN', 'TX'], axis=1)\n",
    "    df_temp = df_temp.astype(float)\n",
    "    df_temp[\"Date\"] = pd.to_datetime(df[\"Date\"])\n",
    "    if cut == True:\n",
    "        df_temp = df_temp[df_temp['Date'] > separation_date]\n",
    "        begin_date = '01/01/2010'\n",
    "    else:\n",
    "        begin_date = '01/01/2005'\n",
    "    # df_temp[\"Date\"] = pd.to_datetime(df[\"Date\"])\n",
    "\n",
    "    return df_temp"
   ]
  },
  {
   "cell_type": "code",
   "execution_count": 176,
   "metadata": {},
   "outputs": [
    {
     "name": "stdout",
     "output_type": "stream",
     "text": [
      "Dataframes saved...\n"
     ]
    }
   ],
   "source": [
    "\n",
    "df_temp = clean_data(salouel_raw_data, False)\n",
    "df = prepare_data(df_temp)\n"
   ]
  },
  {
   "cell_type": "code",
   "execution_count": 177,
   "metadata": {},
   "outputs": [],
   "source": [
    "X_std = StandardScaler().fit_transform(df)"
   ]
  },
  {
   "cell_type": "code",
   "execution_count": 178,
   "metadata": {},
   "outputs": [],
   "source": [
    "Y_pca = pca.fit_transform(X_std)\n"
   ]
  },
  {
   "cell_type": "code",
   "execution_count": 179,
   "metadata": {},
   "outputs": [
    {
     "data": {
      "text/plain": [
       "array([0.33369083, 0.22591699, 0.14435912, 0.12977589, 0.0856972 ,\n",
       "       0.05835663, 0.02220334])"
      ]
     },
     "execution_count": 179,
     "metadata": {},
     "output_type": "execute_result"
    }
   ],
   "source": [
    "\n",
    "pca.explained_variance_ratio_"
   ]
  },
  {
   "cell_type": "code",
   "execution_count": 181,
   "metadata": {},
   "outputs": [
    {
     "ename": "AttributeError",
     "evalue": "'numpy.ndarray' object has no attribute 'head'",
     "output_type": "error",
     "traceback": [
      "\u001b[0;31m---------------------------------------------------------------------------\u001b[0m",
      "\u001b[0;31mAttributeError\u001b[0m                            Traceback (most recent call last)",
      "\u001b[0;32m<ipython-input-181-234529bcb77f>\u001b[0m in \u001b[0;36m<module>\u001b[0;34m()\u001b[0m\n\u001b[0;32m----> 1\u001b[0;31m \u001b[0mX_std\u001b[0m\u001b[0;34m.\u001b[0m\u001b[0mhead\u001b[0m\u001b[0;34m(\u001b[0m\u001b[0;34m)\u001b[0m\u001b[0;34m\u001b[0m\u001b[0m\n\u001b[0m",
      "\u001b[0;31mAttributeError\u001b[0m: 'numpy.ndarray' object has no attribute 'head'"
     ]
    }
   ],
   "source": [
    "X_std.head()\n"
   ]
  },
  {
   "cell_type": "code",
   "execution_count": null,
   "metadata": {},
   "outputs": [],
   "source": []
  },
  {
   "cell_type": "code",
   "execution_count": null,
   "metadata": {},
   "outputs": [],
   "source": []
  }
 ],
 "metadata": {
  "kernelspec": {
   "display_name": "Python 3",
   "language": "python",
   "name": "python3"
  },
  "language_info": {
   "codemirror_mode": {
    "name": "ipython",
    "version": 3
   },
   "file_extension": ".py",
   "mimetype": "text/x-python",
   "name": "python",
   "nbconvert_exporter": "python",
   "pygments_lexer": "ipython3",
   "version": "3.6.4"
  }
 },
 "nbformat": 4,
 "nbformat_minor": 2
}
